{
 "cells": [
  {
   "cell_type": "markdown",
   "id": "ec963c84",
   "metadata": {},
   "source": [
    "# Map CV"
   ]
  },
  {
   "cell_type": "markdown",
   "id": "e6967be3",
   "metadata": {},
   "source": [
    "```{warning}\n",
    "🚧 This page is still under construction 🚧\n",
    "```\n"
   ]
  },
  {
   "cell_type": "code",
   "execution_count": 1,
   "id": "5e509114",
   "metadata": {
    "tags": [
     "hide-input"
    ]
   },
   "outputs": [],
   "source": [
    "from ipywidgets import HTML\n",
    "\n",
    "from ipyleaflet import Map, Marker, Popup, Icon, AwesomeIcon\n",
    "from ipyleaflet import  LegendControl, basemaps\n",
    "\n",
    "# read csv file\n",
    "import pandas as pd\n",
    "field_activity = pd.read_csv('field.csv')\n",
    "field_activity.dropna(subset=['Lat', 'Long'],inplace=True)\n"
   ]
  },
  {
   "cell_type": "code",
   "execution_count": 2,
   "id": "e0f2a214",
   "metadata": {
    "tags": [
     "hide-input"
    ]
   },
   "outputs": [],
   "source": [
    "center = (43.500000, 15.090278)\n",
    "m = Map(basemap=basemaps.Esri.WorldTopoMap, center=center, zoom=4, zoom_control=False, \n",
    "        close_popup_on_click=False)\n",
    "\n",
    "# define icon for different field activities: archeology, risk assessement, hydrology, ECZ plant soil interaction\n",
    "\n",
    "icon_archeo = AwesomeIcon(\n",
    "            name='hammer',\n",
    "            marker_color='beige',\n",
    "            icon_color='black',\n",
    "            spin=False\n",
    "        )\n",
    "\n",
    "icon_risk = AwesomeIcon(\n",
    "            name='exclamation-circle',\n",
    "            marker_color='red',\n",
    "        )\n",
    "\n",
    "icon_hydro = AwesomeIcon(\n",
    "            name='hand-holding-water',\n",
    "            marker_color='blue',\n",
    "        )\n",
    "\n",
    "icon_vegetation = AwesomeIcon(\n",
    "            name='seedling',\n",
    "            marker_color='green',\n",
    "        )\n",
    "\n",
    "icon_type = {\n",
    "            'Archeology': icon_archeo,\n",
    "            'Geohazard': icon_risk,\n",
    "            'Hydrology': icon_hydro,\n",
    "            'Interaction soil-plant-atmosphere': icon_vegetation,\n",
    "            }\n",
    "\n",
    "\n",
    "field_sites = []\n",
    "for i, coords in enumerate(zip(field_activity['Lat'],field_activity['Long'])):\n",
    "    lt, lg = coords\n",
    "    field_sites.append((lt, lg))\n",
    "      \n",
    "    marker = Marker(location=(lt, lg), icon= icon_type[field_activity['Purpose'].to_numpy()[i]])\n",
    "    message = HTML()\n",
    "    message.value = field_activity['Location_name'].to_numpy()[i]\n",
    "    message.description = field_activity['Purpose'].to_numpy()[i]\n",
    "    marker.popup = message\n",
    "    #marker.dragging.disable()\n",
    "    \n",
    "\n",
    "    m.add_layer(marker)\n",
    "    \n",
    "legend = LegendControl({\"Interactions Soil-Plant-Atmosphere\":\"green\", \"Geohazards\":\"red\", \"Hydrology\":\"blue\",  \"Archeology\":\"beige\"}, \n",
    "                       name=\"Field network\", \n",
    "                       position=\"topright\")\n",
    "m.add_control(legend)\n"
   ]
  },
  {
   "cell_type": "code",
   "execution_count": 3,
   "id": "6512a811-2109-41e2-b8c7-ce5da065d5ed",
   "metadata": {
    "tags": [
     "hide-input"
    ]
   },
   "outputs": [
    {
     "data": {
      "application/vnd.jupyter.widget-view+json": {
       "model_id": "35a3bba4dc764acc801587cc181a71a9",
       "version_major": 2,
       "version_minor": 0
      },
      "text/plain": [
       "Map(center=[43.5, 15.090278], close_popup_on_click=False, controls=(AttributionControl(options=['position', 'p…"
      ]
     },
     "metadata": {},
     "output_type": "display_data"
    }
   ],
   "source": [
    "m"
   ]
  },
  {
   "cell_type": "code",
   "execution_count": null,
   "id": "adcac277-e6dc-4ef2-88b8-cf680aa3504a",
   "metadata": {},
   "outputs": [],
   "source": []
  }
 ],
 "metadata": {
  "celltoolbar": "Éditer les Méta-Données",
  "jupytext": {
   "cell_metadata_filter": "-all",
   "main_language": "python",
   "notebook_metadata_filter": "-all",
   "text_representation": {
    "extension": ".md",
    "format_name": "markdown"
   }
  },
  "kernelspec": {
   "display_name": "Dimech",
   "language": "python",
   "name": "dimech-env"
  },
  "language_info": {
   "codemirror_mode": {
    "name": "ipython",
    "version": 3
   },
   "file_extension": ".py",
   "mimetype": "text/x-python",
   "name": "python",
   "nbconvert_exporter": "python",
   "pygments_lexer": "ipython3",
   "version": "3.7.7"
  }
 },
 "nbformat": 4,
 "nbformat_minor": 5
}