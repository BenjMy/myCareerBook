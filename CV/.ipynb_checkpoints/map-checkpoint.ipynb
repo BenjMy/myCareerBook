{
 "cells": [
  {
   "cell_type": "markdown",
   "id": "ec963c84",
   "metadata": {},
   "source": [
    "# Map CV"
   ]
  },
  {
   "cell_type": "markdown",
   "id": "e6967be3",
   "metadata": {},
   "source": [
    "### Map in construction\n",
    "\n"
   ]
  },
  {
   "cell_type": "code",
   "execution_count": 19,
   "id": "89718292",
   "metadata": {
    "tags": [
     "hide-input"
    ]
   },
   "outputs": [
    {
     "data": {
      "application/vnd.jupyter.widget-view+json": {
       "model_id": "74c2ece3405142deb3634d1fa283ea7c",
       "version_major": 2,
       "version_minor": 0
      },
      "text/plain": [
       "Map(center=[52.204793, 360.121558], close_popup_on_click=False, controls=(ZoomControl(options=['position', 'zo…"
      ]
     },
     "metadata": {},
     "output_type": "display_data"
    }
   ],
   "source": [
    "from ipywidgets import HTML\n",
    "\n",
    "from ipyleaflet import Map, Marker, Popup\n",
    "\n",
    "center = (52.204793, 360.121558)\n",
    "\n",
    "m = Map(center=center, zoom=9, close_popup_on_click=False)\n",
    "\n",
    "marker = Marker(location=(52.1, 359.9))\n",
    "m.add_layer(marker)\n",
    "\n",
    "message2 = HTML()\n",
    "message2.value = \"Hello <b>World</b>\"\n",
    "#message2.placeholder = \"Some HTML\"\n",
    "message2.description = \"Some HTML\"\n",
    "\n",
    "# Popup with a given location on the map:\n",
    "m.add_layer(popup)\n",
    "\n",
    "# Popup associated to a layer\n",
    "marker.popup = message2\n",
    "\n",
    "m"
   ]
  },
  {
   "cell_type": "code",
   "execution_count": 10,
   "id": "0457d0d6",
   "metadata": {},
   "outputs": [
    {
     "data": {
      "text/html": [
       "<div>\n",
       "<style scoped>\n",
       "    .dataframe tbody tr th:only-of-type {\n",
       "        vertical-align: middle;\n",
       "    }\n",
       "\n",
       "    .dataframe tbody tr th {\n",
       "        vertical-align: top;\n",
       "    }\n",
       "\n",
       "    .dataframe thead th {\n",
       "        text-align: right;\n",
       "    }\n",
       "</style>\n",
       "<table border=\"1\" class=\"dataframe\">\n",
       "  <thead>\n",
       "    <tr style=\"text-align: right;\">\n",
       "      <th></th>\n",
       "      <th>Id</th>\n",
       "      <th>Date</th>\n",
       "      <th>Location_name</th>\n",
       "      <th>Lat</th>\n",
       "      <th>Long</th>\n",
       "      <th>Coordinator</th>\n",
       "      <th>Purpose</th>\n",
       "      <th>Method</th>\n",
       "      <th>Abtract</th>\n",
       "      <th>Data</th>\n",
       "      <th>Article</th>\n",
       "    </tr>\n",
       "  </thead>\n",
       "  <tbody>\n",
       "    <tr>\n",
       "      <th>0</th>\n",
       "      <td>1</td>\n",
       "      <td>2019-10</td>\n",
       "      <td>Monteriggioni</td>\n",
       "      <td>43.347195</td>\n",
       "      <td>11.305125</td>\n",
       "      <td>R. Deiana</td>\n",
       "      <td>Archeology</td>\n",
       "      <td>ERT</td>\n",
       "      <td>NaN</td>\n",
       "      <td>NaN</td>\n",
       "      <td>NaN</td>\n",
       "    </tr>\n",
       "    <tr>\n",
       "      <th>2</th>\n",
       "      <td>3</td>\n",
       "      <td>2020-02</td>\n",
       "      <td>Lamosano</td>\n",
       "      <td>46.172658</td>\n",
       "      <td>12.386934</td>\n",
       "      <td>G. Cassiani</td>\n",
       "      <td>Geohazard</td>\n",
       "      <td>ERT</td>\n",
       "      <td>NaN</td>\n",
       "      <td>NaN</td>\n",
       "      <td>NaN</td>\n",
       "    </tr>\n",
       "    <tr>\n",
       "      <th>4</th>\n",
       "      <td>5</td>\n",
       "      <td>2019-02</td>\n",
       "      <td>Aviano</td>\n",
       "      <td>46.070560</td>\n",
       "      <td>12.594720</td>\n",
       "      <td>G. Cassiani</td>\n",
       "      <td>Geohazard</td>\n",
       "      <td>ERT, GPR</td>\n",
       "      <td>NaN</td>\n",
       "      <td>NaN</td>\n",
       "      <td>NaN</td>\n",
       "    </tr>\n",
       "    <tr>\n",
       "      <th>5</th>\n",
       "      <td>6</td>\n",
       "      <td>2019-03</td>\n",
       "      <td>Catania</td>\n",
       "      <td>37.500000</td>\n",
       "      <td>15.090278</td>\n",
       "      <td>G. Cassiani; D. Vanella</td>\n",
       "      <td>Interaction soil-plant-atmosphere</td>\n",
       "      <td>NaN</td>\n",
       "      <td>NaN</td>\n",
       "      <td>NaN</td>\n",
       "      <td>NaN</td>\n",
       "    </tr>\n",
       "    <tr>\n",
       "      <th>6</th>\n",
       "      <td>7</td>\n",
       "      <td>2019-05</td>\n",
       "      <td>Asiago</td>\n",
       "      <td>45.875885</td>\n",
       "      <td>11.509620</td>\n",
       "      <td>G. Cassiani</td>\n",
       "      <td>Geohazard</td>\n",
       "      <td>ERT</td>\n",
       "      <td>NaN</td>\n",
       "      <td>NaN</td>\n",
       "      <td>NaN</td>\n",
       "    </tr>\n",
       "  </tbody>\n",
       "</table>\n",
       "</div>"
      ],
      "text/plain": [
       "    Id     Date  Location_name        Lat       Long              Coordinator  \\\n",
       "0    1  2019-10  Monteriggioni  43.347195  11.305125                R. Deiana   \n",
       "2    3  2020-02       Lamosano  46.172658  12.386934              G. Cassiani   \n",
       "4    5  2019-02         Aviano  46.070560  12.594720              G. Cassiani   \n",
       "5    6  2019-03        Catania  37.500000  15.090278  G. Cassiani; D. Vanella   \n",
       "6    7  2019-05         Asiago  45.875885  11.509620              G. Cassiani   \n",
       "\n",
       "                             Purpose    Method Abtract  Data  Article  \n",
       "0                         Archeology       ERT     NaN   NaN      NaN  \n",
       "2                          Geohazard       ERT     NaN   NaN      NaN  \n",
       "4                          Geohazard  ERT, GPR     NaN   NaN      NaN  \n",
       "5  Interaction soil-plant-atmosphere       NaN     NaN   NaN      NaN  \n",
       "6                          Geohazard       ERT     NaN   NaN      NaN  "
      ]
     },
     "execution_count": 10,
     "metadata": {},
     "output_type": "execute_result"
    }
   ],
   "source": [
    "# read csv file\n",
    "\n",
    "import pandas as pd\n",
    "\n",
    "field_activity = pd.read_csv('field.csv')\n",
    "field_activity.dropna(subset=['Lat', 'Long'],inplace=True)\n",
    "field_activity.head()"
   ]
  },
  {
   "cell_type": "code",
   "execution_count": 36,
   "id": "00cdc500",
   "metadata": {},
   "outputs": [
    {
     "data": {
      "application/vnd.jupyter.widget-view+json": {
       "model_id": "f6d0b961400d429192b88f4ea7a3f115",
       "version_major": 2,
       "version_minor": 0
      },
      "text/plain": [
       "Map(center=[37.5, 15.090278], close_popup_on_click=False, controls=(ZoomControl(options=['position', 'zoom_in_…"
      ]
     },
     "metadata": {},
     "output_type": "display_data"
    }
   ],
   "source": [
    "from ipywidgets import HTML\n",
    "\n",
    "from ipyleaflet import Map, Marker, Popup, Icon, AwesomeIcon\n",
    "\n",
    "center = (37.500000, 15.090278)\n",
    "m = Map(center=center, zoom=3, close_popup_on_click=False)\n",
    "\n",
    "icon1 = AwesomeIcon(\n",
    "    name='fa-user-circle',\n",
    "    marker_color='blue',\n",
    "    icon_color='white',\n",
    "    spin=False\n",
    ")\n",
    "\n",
    "\n",
    "field_sites = []\n",
    "for i, coords in enumerate(zip(field_activity['Lat'],field_activity['Long'])):\n",
    "    lt, lg = coords\n",
    "    field_sites.append((lt, lg))\n",
    "    marker = Marker(location=(lt, lg), icon=icon1)\n",
    "    message = HTML()\n",
    "    message.value = field_activity['Location_name'].to_numpy()[i]\n",
    "    message.description = field_activity['Purpose'].to_numpy()[i]\n",
    "    marker.popup = message\n",
    "\n",
    "    m.add_layer(marker)\n",
    "m\n"
   ]
  },
  {
   "cell_type": "code",
   "execution_count": 29,
   "id": "57301a51",
   "metadata": {},
   "outputs": [
    {
     "data": {
      "text/plain": [
       "'Lamosano'"
      ]
     },
     "execution_count": 29,
     "metadata": {},
     "output_type": "execute_result"
    }
   ],
   "source": [
    "field_activity['Location_name'].to_numpy()[1]\n"
   ]
  }
 ],
 "metadata": {
  "celltoolbar": "Éditer les Méta-Données",
  "jupytext": {
   "cell_metadata_filter": "-all",
   "main_language": "python",
   "notebook_metadata_filter": "-all",
   "text_representation": {
    "extension": ".md",
    "format_name": "markdown"
   }
  },
  "kernelspec": {
   "display_name": "Python 3 (ipykernel)",
   "language": "python",
   "name": "python3"
  },
  "language_info": {
   "codemirror_mode": {
    "name": "ipython",
    "version": 3
   },
   "file_extension": ".py",
   "mimetype": "text/x-python",
   "name": "python",
   "nbconvert_exporter": "python",
   "pygments_lexer": "ipython3",
   "version": "3.8.10"
  }
 },
 "nbformat": 4,
 "nbformat_minor": 5
}
